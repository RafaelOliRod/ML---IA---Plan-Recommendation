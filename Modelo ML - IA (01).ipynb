{
 "cells": [
  {
   "cell_type": "markdown",
   "metadata": {},
   "source": [
    "# Megaline - Projeto de Recomendação de Planos de Telefonia"
   ]
  },
  {
   "cell_type": "markdown",
   "metadata": {},
   "source": [
    "No mundo altamente competitivo das telecomunicações, entender e atender às necessidades dos clientes é crucial para o sucesso de uma empresa. A Megaline, uma operadora de celular estabelecida, está buscando manter sua posição competitiva e atender melhor às demandas em constante mudança de seus clientes. Para alcançar esse objetivo, a empresa decidiu empregar técnicas avançadas de Machine Learning e Inteligência Artificial para desenvolver um modelo capaz de recomendar novos planos de telefonia aos seus clientes.\n",
    "\n",
    "Neste projeto, iremos explorar uma variedade de algoritmos de Machine Learning e técnicas de modelagem para criar um sistema inteligente que analise o comportamento dos clientes e sugira o plano mais adequado para cada um deles. Utilizando dados históricos de comportamento dos clientes, nosso objetivo é desenvolver um modelo robusto e eficaz que possa prever com precisão as preferências dos clientes e recomendar planos que atendam melhor às suas necessidades individuais.\n",
    "\n",
    "Ao aproveitar o poder do Machine Learning e da Inteligência Artificial, esperamos capacitar a Megaline a tomar decisões estratégicas mais informadas, melhorar a satisfação do cliente e impulsionar o crescimento do negócio."
   ]
  },
  {
   "cell_type": "markdown",
   "metadata": {},
   "source": [
    "## Bibliotecas e Dados"
   ]
  },
  {
   "cell_type": "code",
   "execution_count": 1,
   "metadata": {},
   "outputs": [],
   "source": [
    "import pandas as pd\n",
    "from sklearn.model_selection import train_test_split\n",
    "from sklearn.metrics import accuracy_score\n",
    "from sklearn.tree import DecisionTreeClassifier\n",
    "from sklearn.ensemble import RandomForestClassifier\n",
    "from sklearn.linear_model import LogisticRegression\n",
    "from sklearn.metrics import mean_squared_error\n",
    "from sklearn.ensemble import RandomForestRegressor"
   ]
  },
  {
   "cell_type": "code",
   "execution_count": 2,
   "metadata": {},
   "outputs": [],
   "source": [
    "df = pd.read_csv('datasets/users_behavior.csv')"
   ]
  },
  {
   "cell_type": "code",
   "execution_count": 3,
   "metadata": {},
   "outputs": [
    {
     "name": "stdout",
     "output_type": "stream",
     "text": [
      "<class 'pandas.core.frame.DataFrame'>\n",
      "RangeIndex: 3214 entries, 0 to 3213\n",
      "Data columns (total 5 columns):\n",
      " #   Column    Non-Null Count  Dtype  \n",
      "---  ------    --------------  -----  \n",
      " 0   calls     3214 non-null   float64\n",
      " 1   minutes   3214 non-null   float64\n",
      " 2   messages  3214 non-null   float64\n",
      " 3   mb_used   3214 non-null   float64\n",
      " 4   is_ultra  3214 non-null   int64  \n",
      "dtypes: float64(4), int64(1)\n",
      "memory usage: 125.7 KB\n"
     ]
    }
   ],
   "source": [
    "df.info()"
   ]
  },
  {
   "cell_type": "code",
   "execution_count": 4,
   "metadata": {},
   "outputs": [
    {
     "data": {
      "text/html": [
       "<div>\n",
       "<style scoped>\n",
       "    .dataframe tbody tr th:only-of-type {\n",
       "        vertical-align: middle;\n",
       "    }\n",
       "\n",
       "    .dataframe tbody tr th {\n",
       "        vertical-align: top;\n",
       "    }\n",
       "\n",
       "    .dataframe thead th {\n",
       "        text-align: right;\n",
       "    }\n",
       "</style>\n",
       "<table border=\"1\" class=\"dataframe\">\n",
       "  <thead>\n",
       "    <tr style=\"text-align: right;\">\n",
       "      <th></th>\n",
       "      <th>calls</th>\n",
       "      <th>minutes</th>\n",
       "      <th>messages</th>\n",
       "      <th>mb_used</th>\n",
       "      <th>is_ultra</th>\n",
       "    </tr>\n",
       "  </thead>\n",
       "  <tbody>\n",
       "    <tr>\n",
       "      <th>0</th>\n",
       "      <td>40.0</td>\n",
       "      <td>311.90</td>\n",
       "      <td>83.0</td>\n",
       "      <td>19915.42</td>\n",
       "      <td>0</td>\n",
       "    </tr>\n",
       "    <tr>\n",
       "      <th>1</th>\n",
       "      <td>85.0</td>\n",
       "      <td>516.75</td>\n",
       "      <td>56.0</td>\n",
       "      <td>22696.96</td>\n",
       "      <td>0</td>\n",
       "    </tr>\n",
       "    <tr>\n",
       "      <th>2</th>\n",
       "      <td>77.0</td>\n",
       "      <td>467.66</td>\n",
       "      <td>86.0</td>\n",
       "      <td>21060.45</td>\n",
       "      <td>0</td>\n",
       "    </tr>\n",
       "    <tr>\n",
       "      <th>3</th>\n",
       "      <td>106.0</td>\n",
       "      <td>745.53</td>\n",
       "      <td>81.0</td>\n",
       "      <td>8437.39</td>\n",
       "      <td>1</td>\n",
       "    </tr>\n",
       "    <tr>\n",
       "      <th>4</th>\n",
       "      <td>66.0</td>\n",
       "      <td>418.74</td>\n",
       "      <td>1.0</td>\n",
       "      <td>14502.75</td>\n",
       "      <td>0</td>\n",
       "    </tr>\n",
       "    <tr>\n",
       "      <th>5</th>\n",
       "      <td>58.0</td>\n",
       "      <td>344.56</td>\n",
       "      <td>21.0</td>\n",
       "      <td>15823.37</td>\n",
       "      <td>0</td>\n",
       "    </tr>\n",
       "    <tr>\n",
       "      <th>6</th>\n",
       "      <td>57.0</td>\n",
       "      <td>431.64</td>\n",
       "      <td>20.0</td>\n",
       "      <td>3738.90</td>\n",
       "      <td>1</td>\n",
       "    </tr>\n",
       "    <tr>\n",
       "      <th>7</th>\n",
       "      <td>15.0</td>\n",
       "      <td>132.40</td>\n",
       "      <td>6.0</td>\n",
       "      <td>21911.60</td>\n",
       "      <td>0</td>\n",
       "    </tr>\n",
       "    <tr>\n",
       "      <th>8</th>\n",
       "      <td>7.0</td>\n",
       "      <td>43.39</td>\n",
       "      <td>3.0</td>\n",
       "      <td>2538.67</td>\n",
       "      <td>1</td>\n",
       "    </tr>\n",
       "    <tr>\n",
       "      <th>9</th>\n",
       "      <td>90.0</td>\n",
       "      <td>665.41</td>\n",
       "      <td>38.0</td>\n",
       "      <td>17358.61</td>\n",
       "      <td>0</td>\n",
       "    </tr>\n",
       "  </tbody>\n",
       "</table>\n",
       "</div>"
      ],
      "text/plain": [
       "   calls  minutes  messages   mb_used  is_ultra\n",
       "0   40.0   311.90      83.0  19915.42         0\n",
       "1   85.0   516.75      56.0  22696.96         0\n",
       "2   77.0   467.66      86.0  21060.45         0\n",
       "3  106.0   745.53      81.0   8437.39         1\n",
       "4   66.0   418.74       1.0  14502.75         0\n",
       "5   58.0   344.56      21.0  15823.37         0\n",
       "6   57.0   431.64      20.0   3738.90         1\n",
       "7   15.0   132.40       6.0  21911.60         0\n",
       "8    7.0    43.39       3.0   2538.67         1\n",
       "9   90.0   665.41      38.0  17358.61         0"
      ]
     },
     "execution_count": 4,
     "metadata": {},
     "output_type": "execute_result"
    }
   ],
   "source": [
    "df.head(10)"
   ]
  },
  {
   "cell_type": "code",
   "execution_count": 5,
   "metadata": {},
   "outputs": [],
   "source": [
    "features = df.drop(['is_ultra'], axis=1)\n",
    "target = df['is_ultra']"
   ]
  },
  {
   "cell_type": "markdown",
   "metadata": {},
   "source": [
    "## Divisão dos Dados"
   ]
  },
  {
   "cell_type": "markdown",
   "metadata": {},
   "source": [
    "* **Conjunto de Treinamento** (`features_train`, `target_train`): Este conjunto é usado para treinar o modelo. Neste caso, 75% dos dados totais são usados para treinamento, conforme definido pelo parâmetro `test_size=0.25` na primeira chamada da função `train_test_split`.\n",
    "\n",
    "* **Conjunto de Validação** (`features_valid`, `target_valid`): Este conjunto é usado para ajustar os hiperparâmetros do modelo e avaliar o desempenho durante o treinamento. Neste caso, 25% dos dados de treinamento são reservados para validação, conforme definido pelo parâmetro `test_size=0.25` na segunda chamada da função `train_test_split`.\n",
    "\n",
    "* **Conjunto de Teste** (`features_test`, `target_test`): Este conjunto é usado para avaliar o desempenho final do modelo após o treinamento. Neste caso, 25% dos dados totais são reservados para teste, conforme definido pelo parâmetro `test_size=0.25` na primeira chamada da função `train_test_split`.\n",
    "\n",
    "Portanto, a divisão percentual é a seguinte:\n",
    "\n",
    "* Conjunto de Treinamento: 75%\n",
    "* Conjunto de Validação: 25% dos dados de treinamento (ou seja, 18.75% dos dados totais)\n",
    "* Conjunto de Teste: 25%"
   ]
  },
  {
   "cell_type": "code",
   "execution_count": 6,
   "metadata": {},
   "outputs": [],
   "source": [
    "# Dividir os dados em conjuntos de treinamento, validação e teste\n",
    "features_train, features_test, target_train, target_test = train_test_split(\n",
    "    features, target, test_size=0.25, random_state=42)\n",
    "features_train, features_valid, target_train, target_valid = train_test_split(\n",
    "    features_train, target_train, test_size=0.25, random_state=42)"
   ]
  },
  {
   "cell_type": "markdown",
   "metadata": {},
   "source": [
    "## Experimentos de Modelos"
   ]
  },
  {
   "cell_type": "markdown",
   "metadata": {},
   "source": [
    "### Árvore de Decisão"
   ]
  },
  {
   "cell_type": "code",
   "execution_count": 7,
   "metadata": {},
   "outputs": [
    {
     "name": "stdout",
     "output_type": "stream",
     "text": [
      "Acurácia da melhor profundidade da árvore no conjunto de treino = 20 : 0.9894853348090759\n",
      "Acurácia da melhor profundidade da árvore no conjunto de validação = 6 : 0.7860696517412935\n",
      "Acurácia da melhor profundidade da árvore no conjunto de teste = 6 : 0.8097014925373134\n"
     ]
    }
   ],
   "source": [
    "best_score_train = 0\n",
    "best_score_test = 0\n",
    "best_score_valid = 0\n",
    "best_depth_train = 0\n",
    "best_depth_test = 0\n",
    "best_depth_valid = 0\n",
    "\n",
    "for depth in range(1, 21):  # Intervalo para o hiperparâmetro\n",
    "    # definindo a profundidade da árvore\n",
    "    model = DecisionTreeClassifier(random_state=54321, max_depth=depth)\n",
    "    # Usando o conjunto de treinamento para treinar o modelo\n",
    "    model.fit(features_train, target_train)\n",
    "\n",
    "    # Calculando a acurácia no conjunto de treino\n",
    "    score_train = model.score(features_train, target_train)\n",
    "    if score_train > best_score_train:\n",
    "        best_score_train = score_train\n",
    "        best_depth_train = depth\n",
    "\n",
    "    # Calculando a acurácia no conjunto de validação\n",
    "    score_valid = model.score(features_valid, target_valid)\n",
    "    if score_valid > best_score_valid:\n",
    "        best_score_valid = score_valid\n",
    "        best_depth_valid = depth\n",
    "\n",
    "    # Calculando a acurácia no conjunto de teste\n",
    "    score_test = model.score(features_test, target_test)\n",
    "    if score_test > best_score_test:\n",
    "        best_score_test = score_test\n",
    "        best_depth_test = depth\n",
    "\n",
    "print(\"Acurácia da melhor profundidade da árvore no conjunto de treino = {} : {}\".format(\n",
    "    best_depth_train, best_score_train))\n",
    "print(\"Acurácia da melhor profundidade da árvore no conjunto de validação = {} : {}\".format(\n",
    "    best_depth_valid, best_score_valid))\n",
    "print(\"Acurácia da melhor profundidade da árvore no conjunto de teste = {} : {}\".format(\n",
    "    best_depth_test, best_score_test))"
   ]
  },
  {
   "cell_type": "markdown",
   "metadata": {},
   "source": [
    "### Floresta Aleatória"
   ]
  },
  {
   "cell_type": "code",
   "execution_count": 8,
   "metadata": {},
   "outputs": [
    {
     "name": "stdout",
     "output_type": "stream",
     "text": [
      "Acurácia do melhor modelo de floresta aleatória no conjunto de treino (n_estimators = 23): 0.9961104628549202\n",
      "Acurácia do melhor modelo de floresta aleatória no conjunto de validação (n_estimators = 23): 0.9966832504145937\n",
      "Acurácia do melhor modelo de floresta aleatória no conjunto de teste (n_estimators = 30): 0.8149300155520995\n"
     ]
    }
   ],
   "source": [
    "best_score_train = 0\n",
    "best_score_test = 0\n",
    "best_score_valid = 0\n",
    "best_est_train = 0\n",
    "best_est_test = 0\n",
    "best_est_valid = 0\n",
    "\n",
    "features_train, features_test, target_train, target_test = train_test_split(\n",
    "    features, target, test_size=0.2, random_state=42)\n",
    "\n",
    "for est in range(1, 31):  # intervalo para o hiperparâmetro\n",
    "    # definindo o número de árvores\n",
    "    model = RandomForestClassifier(random_state=54321, n_estimators=est)\n",
    "    # Usando o conjunto de treinamento para treinar o modelo\n",
    "    model.fit(features_train, target_train)\n",
    "\n",
    "    # calculando a acurácia no conjunto de treino\n",
    "    score_train = model.score(features_train, target_train)\n",
    "    if score_train > best_score_train:\n",
    "        best_score_train = score_train\n",
    "        best_est_train = est\n",
    "\n",
    "    # calculando a acurácia no conjunto de validação\n",
    "    score_valid = model.score(features_valid, target_valid)\n",
    "    if score_valid > best_score_valid:\n",
    "        best_score_valid = score_valid\n",
    "        best_est_valid = est\n",
    "\n",
    "    # calculando a acurácia no conjunto de teste\n",
    "    score_test = model.score(features_test, target_test)\n",
    "    if score_test > best_score_test:\n",
    "        best_score_test = score_test\n",
    "        best_est_test = est\n",
    "\n",
    "print(\"Acurácia do melhor modelo de floresta aleatória no conjunto de treino (n_estimators = {}): {}\".format(\n",
    "    best_est_train, best_score_train))\n",
    "print(\"Acurácia do melhor modelo de floresta aleatória no conjunto de validação (n_estimators = {}): {}\".format(\n",
    "    best_est_valid, best_score_valid))\n",
    "print(\"Acurácia do melhor modelo de floresta aleatória no conjunto de teste (n_estimators = {}): {}\".format(\n",
    "    best_est_test, best_score_test))"
   ]
  },
  {
   "cell_type": "markdown",
   "metadata": {},
   "source": [
    "### Regressão logística"
   ]
  },
  {
   "cell_type": "code",
   "execution_count": 9,
   "metadata": {},
   "outputs": [
    {
     "name": "stdout",
     "output_type": "stream",
     "text": [
      "Acurácia do modelo de regressão logística no conjunto de teste: 0.7200622083981337\n"
     ]
    }
   ],
   "source": [
    "# inicializando o construtor de regressão logística com os parâmetros random_state=54321 e solver='liblinear'\n",
    "model = LogisticRegression(random_state=54321, solver='liblinear')\n",
    "# usando o conjunto de treinamento para treinar o modelo\n",
    "model.fit(features_train, target_train)\n",
    "# calcular a acurácia no conjunto de teste\n",
    "score_test = model.score(features_test, target_test)\n",
    "\n",
    "print(\"Acurácia do modelo de regressão logística no conjunto de teste:\", score_test)\n"
   ]
  },
  {
   "cell_type": "markdown",
   "metadata": {},
   "source": [
    "### Conclusões e tomada de Decisões\n",
    "\n",
    "Com base nas acurácias calculadas nos conjuntos de teste, podemos tirar algumas conclusões:\n",
    "\n",
    "- **Árvore de Decisão (profundidade = 6):** A acurácia do modelo de árvore de decisão com profundidade 6 no conjunto de teste é de aproximadamente 80.97%.\n",
    "\n",
    "- **Floresta Aleatória (n_estimators = 30):** A acurácia do modelo de Floresta Aleatória com 30 estimadores no conjunto de teste é de aproximadamente 81.49%.\n",
    "\n",
    "- **Regressão Logística:** A acurácia do modelo de Regressão Logística no conjunto de teste é de aproximadamente 72,01%.\n",
    "\n",
    "Com base nessas informações, podemos concluir que o modelo de Floresta Aleatória teve o melhor desempenho, com a maior acurácia no conjunto de teste. Portanto, como a acurácia é uma métrica de avaliação importante para o nosso projeto, escolhemos o modelo de Floresta Aleatória com 30 estimadores."
   ]
  },
  {
   "cell_type": "markdown",
   "metadata": {},
   "source": [
    "## Modelo Final"
   ]
  },
  {
   "cell_type": "markdown",
   "metadata": {},
   "source": [
    "### Modelo Final com Conjunto de Validação"
   ]
  },
  {
   "cell_type": "code",
   "execution_count": 10,
   "metadata": {},
   "outputs": [
    {
     "name": "stdout",
     "output_type": "stream",
     "text": [
      "Acurácia do modelo final usando o conjunto de dados de validação = 0.9966832504145937\n"
     ]
    }
   ],
   "source": [
    "# Definindo o número de árvores no modelo final\n",
    "final_model = RandomForestClassifier(random_state=54321, n_estimators=30)\n",
    "\n",
    "# Usando o conjunto de treinamento para treinar o modelo final\n",
    "final_model.fit(features_train, target_train)\n",
    "\n",
    "# Fazendo previsões no conjunto de validação\n",
    "predictions_valid = final_model.predict(features_valid)\n",
    "\n",
    "# Calculando a acurácia do modelo final no conjunto de validação\n",
    "accuracy_valid = accuracy_score(target_valid, predictions_valid)\n",
    "print('Acurácia do modelo final usando o conjunto de dados de validação =', accuracy_valid)"
   ]
  },
  {
   "cell_type": "markdown",
   "metadata": {},
   "source": [
    "### Modelo Final com Conjunto Total de Dados de Origem"
   ]
  },
  {
   "cell_type": "code",
   "execution_count": 11,
   "metadata": {},
   "outputs": [
    {
     "name": "stdout",
     "output_type": "stream",
     "text": [
      "Acurácia do modelo final usando o conjunto Total de Dados de Origem = 0.9592408214063473\n"
     ]
    }
   ],
   "source": [
    "# Definindo o número de árvores no modelo final\n",
    "final_model = RandomForestClassifier(random_state=54321, n_estimators=30)\n",
    "\n",
    "# Usando o conjunto de treinamento para treinar o modelo final\n",
    "final_model.fit(features_train, target_train)\n",
    "\n",
    "# Fazendo previsões no conjunto Total de Dados de Origem\n",
    "predictions = final_model.predict(features)\n",
    "\n",
    "# Calculando a acurácia do modelo final no conjunto Total de Dados de Origem\n",
    "accuracy = accuracy_score(target, predictions)\n",
    "print('Acurácia do modelo final usando o conjunto Total de Dados de Origem =', accuracy)"
   ]
  },
  {
   "cell_type": "markdown",
   "metadata": {},
   "source": [
    "## Conclusão Geral"
   ]
  },
  {
   "cell_type": "markdown",
   "metadata": {},
   "source": [
    "Neste projeto, exploramos diferentes modelos de machine learning para recomendar planos de telefonia aos clientes da Megaline. Inicialmente, dividimos os dados em conjuntos de treinamento, validação e teste, com uma divisão percentual de 75%, 18.75% e 25%, respectivamente.\n",
    "\n",
    "Após treinar e avaliar os modelos nos conjuntos de teste e validação, observamos que a Floresta Aleatória com 30 estimadores apresentou o melhor desempenho, com a maior acurácia no conjunto de teste. Isso sugere que a complexidade do modelo e a agregação de múltiplas árvores de decisão proporcionaram uma capacidade de generalização robusta, tornando-o eficaz para classificar os clientes em relação aos planos de telefonia.\n",
    "\n",
    "* **Árvore de Decisão (profundidade = 6):** A acurácia do modelo de árvore de decisão com profundidade 6 no conjunto de teste é de aproximadamente 80.97%.\n",
    "\n",
    "* **Floresta Aleatória (n_estimators = 30):** A acurácia do modelo de Floresta Aleatória com 30 estimadores no conjunto de teste é de aproximadamente 81.49%.\n",
    "\n",
    "* **Regressão Logística:** A acurácia do modelo de Regressão Logística no conjunto de teste é de aproximadamente 72,01%.\n",
    "\n",
    "Com base nas análises realizadas, podemos concluir que o modelo de Floresta Aleatória com 30 estimadores apresentou o melhor desempenho em comparação com os outros modelos avaliados, que incluem Árvore de Decisão e Regressão Logística.\n",
    "\n",
    "A acurácia do modelo de Floresta Aleatória foi a mais alta entre os modelos testados, alcançando aproximadamente 81.49% no conjunto de teste. Isso sugere que o modelo foi capaz de fazer previsões com precisão razoavelmente alta em relação aos rótulos verdadeiros.\n",
    "\n",
    "Além disso, ao avaliar o modelo final usando o conjunto de dados de validação, observamos uma acurácia excepcionalmente alta de aproximadamente 99.67%. Isso indica que o modelo foi capaz de generalizar bem para dados não vistos durante o treinamento, o que é um resultado muito positivo e sugere que o modelo é robusto e confiável.\n",
    "\n",
    "Ao considerar a acurácia do modelo final em todo o conjunto de dados de origem, observamos uma acurácia consistente de aproximadamente 95.92%. Isso indica que o modelo mantém um desempenho sólido mesmo quando avaliado em uma ampla variedade de dados.\n",
    "\n",
    "Portanto, com base nessas evidências, recomendamos a implementação do modelo de Floresta Aleatória com 30 estimadores para fazer previsões sobre novos dados, pois demonstrou ser o mais eficaz e confiável para o nosso problema específico."
   ]
  }
 ],
 "metadata": {
  "kernelspec": {
   "display_name": "Python 3",
   "language": "python",
   "name": "python3"
  },
  "language_info": {
   "codemirror_mode": {
    "name": "ipython",
    "version": 3
   },
   "file_extension": ".py",
   "mimetype": "text/x-python",
   "name": "python",
   "nbconvert_exporter": "python",
   "pygments_lexer": "ipython3",
   "version": "3.11.9"
  }
 },
 "nbformat": 4,
 "nbformat_minor": 2
}
